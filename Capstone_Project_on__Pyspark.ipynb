{
 "cells": [
  {
   "cell_type": "markdown",
   "metadata": {
    "id": "iQu2GSGC31wr"
   },
   "source": [
    "# Capstone Project - Olympic Data Analysis Using Pyspark"
   ]
  },
  {
   "cell_type": "markdown",
   "metadata": {
    "id": "xDNXW-X_E2b-"
   },
   "source": [
    "### Introduction"
   ]
  },
  {
   "cell_type": "markdown",
   "metadata": {
    "id": "ehHvpf5oEjrA"
   },
   "source": [
    "In this Olympic data , 110 countries were added in 49 sports from year  2000 to 2012 in olympic games. Also contains player names with their age and number of gold , silver and brone medals , they won . With total medals they won.<br></br>"
   ]
  },
  {
   "cell_type": "markdown",
   "metadata": {
    "id": "7sqU8pWzEwsH"
   },
   "source": [
    "| |  Variables  | Type    | Sub-Types   | \n",
    "|---:|:-------------|:-----------|:------|\n",
    "| 1 | Name  | Categorical       |Nominal  | \n",
    "| 2 | Age   | Numeric  |Continuous  | \n",
    "| 3 | Country  | Categorical    |Nominal   |\n",
    "| 4 | Year  | Categorical    |Ordinal   | \n",
    "| 5 | Date  | Categorical   |Ordinal   | \n",
    "| 6 | Sports  | Numeric    |Nominal    | \n",
    "| 7 | Gold_medal | Numeric    |Discrete    | \n",
    "| 8 | Silver_Medal  | Numeric    |Discrete    | \n",
    "| 9 | Brone_medal  | Numeric    |Discrete    | \n",
    "| 10 | Total_Medal  | Numeric    |Disrete   |      \n",
    "\n"
   ]
  },
  {
   "cell_type": "code",
   "execution_count": 1,
   "metadata": {
    "colab": {
     "base_uri": "https://localhost:8080/"
    },
    "id": "-pNDDvnYIfu0",
    "outputId": "0f340814-3167-4bfc-ac55-07af52aa8023"
   },
   "outputs": [
    {
     "name": "stdout",
     "output_type": "stream",
     "text": [
      "Looking in indexes: https://pypi.org/simple, https://us-python.pkg.dev/colab-wheels/public/simple/\n",
      "Collecting pyspark\n",
      "  Downloading pyspark-3.2.1.tar.gz (281.4 MB)\n",
      "\u001b[K     |████████████████████████████████| 281.4 MB 30 kB/s \n",
      "\u001b[?25hCollecting py4j==0.10.9.3\n",
      "  Downloading py4j-0.10.9.3-py2.py3-none-any.whl (198 kB)\n",
      "\u001b[K     |████████████████████████████████| 198 kB 49.7 MB/s \n",
      "\u001b[?25hBuilding wheels for collected packages: pyspark\n",
      "  Building wheel for pyspark (setup.py) ... \u001b[?25l\u001b[?25hdone\n",
      "  Created wheel for pyspark: filename=pyspark-3.2.1-py2.py3-none-any.whl size=281853642 sha256=44a0f4e519894bdfb5ff864ff2251a4bd51ebe009fd7aedd4ff8ab035dfe6689\n",
      "  Stored in directory: /root/.cache/pip/wheels/9f/f5/07/7cd8017084dce4e93e84e92efd1e1d5334db05f2e83bcef74f\n",
      "Successfully built pyspark\n",
      "Installing collected packages: py4j, pyspark\n",
      "Successfully installed py4j-0.10.9.3 pyspark-3.2.1\n"
     ]
    }
   ],
   "source": [
    "pip install pyspark     # installing pyspark "
   ]
  },
  {
   "cell_type": "code",
   "execution_count": 3,
   "metadata": {
    "id": "qFmid1sHI-tp"
   },
   "outputs": [],
   "source": [
    "from pyspark.sql import SparkSession     # an entry point to PySpark t     \n",
    "\n",
    "spark = SparkSession.builder.appName('Project').getOrCreate()   # i.e creation of spark session"
   ]
  },
  {
   "cell_type": "markdown",
   "metadata": {
    "id": "9uM70Giq4d2t"
   },
   "source": [
    "## Q1. Write PySpark code to read olympix_data.csv file"
   ]
  },
  {
   "cell_type": "code",
   "execution_count": 4,
   "metadata": {
    "id": "uBrIT57PJPMl"
   },
   "outputs": [],
   "source": [
    "df = spark.read.format(\"csv\").option(\"header\", \"true\").option(\"inferSchema\",\"true\").load(\"/content/olympic_datas.csv\")  # create dataframe from csv file"
   ]
  },
  {
   "cell_type": "markdown",
   "metadata": {
    "id": "bJHT33n744AR"
   },
   "source": [
    "## Q2. Write PySpark code to print the Olympic Sports/games in the dataset."
   ]
  },
  {
   "cell_type": "code",
   "execution_count": 5,
   "metadata": {
    "colab": {
     "base_uri": "https://localhost:8080/"
    },
    "id": "UmAkZE-6CdYX",
    "outputId": "8544c8b7-998a-463b-c811-159956dc78a5"
   },
   "outputs": [
    {
     "data": {
      "text/plain": [
       "49"
      ]
     },
     "execution_count": 5,
     "metadata": {},
     "output_type": "execute_result"
    }
   ],
   "source": [
    "df.select(\"sports\").distinct().count()  # use distinct count to count sports in the data"
   ]
  },
  {
   "cell_type": "markdown",
   "metadata": {
    "id": "PA3HBJNmE6Me"
   },
   "source": [
    "sports = 49"
   ]
  },
  {
   "cell_type": "code",
   "execution_count": 6,
   "metadata": {
    "colab": {
     "base_uri": "https://localhost:8080/"
    },
    "id": "0b_k2lDrA7BF",
    "outputId": "15de253b-9c15-4e8d-f440-9dc3d76ea527"
   },
   "outputs": [
    {
     "name": "stdout",
     "output_type": "stream",
     "text": [
      "+--------------------+\n",
      "|              sports|\n",
      "+--------------------+\n",
      "|          Gymnastics|\n",
      "|              Tennis|\n",
      "|              Boxing|\n",
      "|Short-Track Speed...|\n",
      "|          Ice Hockey|\n",
      "|              Rowing|\n",
      "|                Judo|\n",
      "|            Softball|\n",
      "|             Sailing|\n",
      "|            Swimming|\n",
      "|       Alpine Skiing|\n",
      "|          Basketball|\n",
      "|            Handball|\n",
      "| Rhythmic Gymnastics|\n",
      "|            Biathlon|\n",
      "|           Triathlon|\n",
      "|           Badminton|\n",
      "|           Athletics|\n",
      "|      Figure Skating|\n",
      "|    Beach Volleyball|\n",
      "|          Equestrian|\n",
      "|            Shooting|\n",
      "|              Diving|\n",
      "|            Skeleton|\n",
      "|         Ski Jumping|\n",
      "|     Nordic Combined|\n",
      "|           Wrestling|\n",
      "|       Speed Skating|\n",
      "|        Table Tennis|\n",
      "|           Taekwondo|\n",
      "|            Canoeing|\n",
      "|       Weightlifting|\n",
      "|           Waterpolo|\n",
      "|            Baseball|\n",
      "|   Modern Pentathlon|\n",
      "|        Snowboarding|\n",
      "|           Bobsleigh|\n",
      "|             Cycling|\n",
      "|Cross Country Skiing|\n",
      "|          Volleyball|\n",
      "|             Archery|\n",
      "|Synchronized Swim...|\n",
      "|             Curling|\n",
      "|             Fencing|\n",
      "|              Hockey|\n",
      "|    Freestyle Skiing|\n",
      "|            Football|\n",
      "|                Luge|\n",
      "|          Trampoline|\n",
      "+--------------------+\n",
      "\n"
     ]
    }
   ],
   "source": [
    "df.select(\"sports\").distinct().show(n=49)  # use distinct and show to print sports"
   ]
  },
  {
   "cell_type": "markdown",
   "metadata": {
    "id": "s2pLx3s6FLOR"
   },
   "source": [
    "Above list of sports in the dataset"
   ]
  },
  {
   "cell_type": "markdown",
   "metadata": {
    "id": "UDco5iVg5zoT"
   },
   "source": [
    "## Q3.Write PySpark code  the total number of medals in  each Olympic Sport/game"
   ]
  },
  {
   "cell_type": "code",
   "execution_count": 7,
   "metadata": {
    "colab": {
     "base_uri": "https://localhost:8080/"
    },
    "id": "73gJXNp4BkB6",
    "outputId": "3070154a-ff3e-4767-b90c-79ab4ed7bb0e"
   },
   "outputs": [
    {
     "name": "stdout",
     "output_type": "stream",
     "text": [
      "+--------------------+----------------+\n",
      "|              sports|sum(total_medal)|\n",
      "+--------------------+----------------+\n",
      "|          Gymnastics|             282|\n",
      "|              Tennis|              78|\n",
      "|              Boxing|             188|\n",
      "|Short-Track Speed...|             138|\n",
      "|          Ice Hockey|             384|\n",
      "|              Rowing|             576|\n",
      "|                Judo|             224|\n",
      "|            Softball|             134|\n",
      "|             Sailing|             210|\n",
      "|            Swimming|             765|\n",
      "|       Alpine Skiing|              90|\n",
      "|          Basketball|             287|\n",
      "|            Handball|             351|\n",
      "| Rhythmic Gymnastics|              84|\n",
      "|            Biathlon|             138|\n",
      "|           Triathlon|              24|\n",
      "|           Badminton|              96|\n",
      "|           Athletics|             753|\n",
      "|      Figure Skating|              54|\n",
      "|    Beach Volleyball|              48|\n",
      "|          Equestrian|             182|\n",
      "|            Shooting|             192|\n",
      "|              Diving|             144|\n",
      "|            Skeleton|              18|\n",
      "|         Ski Jumping|              54|\n",
      "|     Nordic Combined|              54|\n",
      "|           Wrestling|             245|\n",
      "|       Speed Skating|             140|\n",
      "|        Table Tennis|              84|\n",
      "|           Taekwondo|             112|\n",
      "|            Canoeing|             333|\n",
      "|       Weightlifting|             180|\n",
      "|           Waterpolo|             306|\n",
      "|            Baseball|             216|\n",
      "|   Modern Pentathlon|              24|\n",
      "|        Snowboarding|              48|\n",
      "|           Bobsleigh|              72|\n",
      "|             Cycling|             306|\n",
      "|Cross Country Skiing|             174|\n",
      "|          Volleyball|             279|\n",
      "|             Archery|              96|\n",
      "|Synchronized Swim...|             129|\n",
      "|             Curling|              82|\n",
      "|             Fencing|             256|\n",
      "|              Hockey|             387|\n",
      "|    Freestyle Skiing|              42|\n",
      "|            Football|             407|\n",
      "|                Luge|              36|\n",
      "|          Trampoline|              24|\n",
      "+--------------------+----------------+\n",
      "\n"
     ]
    }
   ],
   "source": [
    "df.groupby(\"sports\").sum(\"total_medal\").show(n = 49)  # use group by for sports and sum for add total medal"
   ]
  },
  {
   "cell_type": "markdown",
   "metadata": {
    "id": "iYkPPsrgFmUM"
   },
   "source": [
    "Above list of the total number of medals in  each Olympic Sport/game"
   ]
  },
  {
   "cell_type": "markdown",
   "metadata": {
    "id": "kYF46yG26pkv"
   },
   "source": [
    "## Q4. Sort the result based on the total number of medals."
   ]
  },
  {
   "cell_type": "code",
   "execution_count": 8,
   "metadata": {
    "colab": {
     "base_uri": "https://localhost:8080/"
    },
    "id": "R1so9hM0Fm6Y",
    "outputId": "6ffd5279-e1a3-4288-ade2-d5ae6a1bbd68"
   },
   "outputs": [
    {
     "name": "stdout",
     "output_type": "stream",
     "text": [
      "+--------------------+----------------+\n",
      "|              sports|sum(total_medal)|\n",
      "+--------------------+----------------+\n",
      "|            Swimming|             765|\n",
      "|           Athletics|             753|\n",
      "|              Rowing|             576|\n",
      "|            Football|             407|\n",
      "|              Hockey|             387|\n",
      "|          Ice Hockey|             384|\n",
      "|            Handball|             351|\n",
      "|            Canoeing|             333|\n",
      "|           Waterpolo|             306|\n",
      "|             Cycling|             306|\n",
      "|          Basketball|             287|\n",
      "|          Gymnastics|             282|\n",
      "|          Volleyball|             279|\n",
      "|             Fencing|             256|\n",
      "|           Wrestling|             245|\n",
      "|                Judo|             224|\n",
      "|            Baseball|             216|\n",
      "|             Sailing|             210|\n",
      "|            Shooting|             192|\n",
      "|              Boxing|             188|\n",
      "|          Equestrian|             182|\n",
      "|       Weightlifting|             180|\n",
      "|Cross Country Skiing|             174|\n",
      "|              Diving|             144|\n",
      "|       Speed Skating|             140|\n",
      "|            Biathlon|             138|\n",
      "|Short-Track Speed...|             138|\n",
      "|            Softball|             134|\n",
      "|Synchronized Swim...|             129|\n",
      "|           Taekwondo|             112|\n",
      "|           Badminton|              96|\n",
      "|             Archery|              96|\n",
      "|       Alpine Skiing|              90|\n",
      "| Rhythmic Gymnastics|              84|\n",
      "|        Table Tennis|              84|\n",
      "|             Curling|              82|\n",
      "|              Tennis|              78|\n",
      "|           Bobsleigh|              72|\n",
      "|         Ski Jumping|              54|\n",
      "|     Nordic Combined|              54|\n",
      "|      Figure Skating|              54|\n",
      "|    Beach Volleyball|              48|\n",
      "|        Snowboarding|              48|\n",
      "|    Freestyle Skiing|              42|\n",
      "|                Luge|              36|\n",
      "|   Modern Pentathlon|              24|\n",
      "|           Triathlon|              24|\n",
      "|          Trampoline|              24|\n",
      "|            Skeleton|              18|\n",
      "+--------------------+----------------+\n",
      "\n"
     ]
    }
   ],
   "source": [
    "import pyspark.sql.functions as f    # take sql function as f\n",
    "sport_total =df.groupby(\"sports\").sum(\"total_medal\")   #use gruop by and sum for total metals\n",
    "sport = sport_total.orderBy(f.desc(\"sum(total_medal)\")) # use order by for ordering and also use desc or descending ordering \n",
    "sport.show(n = 49)  # show result"
   ]
  },
  {
   "cell_type": "markdown",
   "metadata": {
    "id": "sStvhLF6HblP"
   },
   "source": [
    "sorted  total number of medals in each Olympic Sport/game"
   ]
  },
  {
   "cell_type": "markdown",
   "metadata": {
    "id": "f5Oa7XwT6xwY"
   },
   "source": [
    "## Q5. Find the total number of medals won by each country in swimming."
   ]
  },
  {
   "cell_type": "code",
   "execution_count": 19,
   "metadata": {
    "colab": {
     "base_uri": "https://localhost:8080/"
    },
    "id": "p3_6gz4YSj5W",
    "outputId": "8cb165a2-f986-4259-eb62-457989953cdf"
   },
   "outputs": [
    {
     "name": "stdout",
     "output_type": "stream",
     "text": [
      "+-------------------+----------------+\n",
      "|            country|sum(total_medal)|\n",
      "+-------------------+----------------+\n",
      "|      United States|             267|\n",
      "|          Australia|             163|\n",
      "|        Netherlands|              46|\n",
      "|              Japan|              43|\n",
      "|             France|              39|\n",
      "|              China|              35|\n",
      "|            Germany|              32|\n",
      "|             Russia|              20|\n",
      "|              Italy|              16|\n",
      "|      Great Britain|              11|\n",
      "|       South Africa|              11|\n",
      "|             Sweden|               9|\n",
      "|            Hungary|               9|\n",
      "|             Brazil|               8|\n",
      "|            Ukraine|               7|\n",
      "|           Zimbabwe|               7|\n",
      "|            Romania|               6|\n",
      "|             Canada|               5|\n",
      "|        South Korea|               4|\n",
      "|             Poland|               3|\n",
      "|            Austria|               3|\n",
      "|            Tunisia|               3|\n",
      "|              Spain|               3|\n",
      "|             Norway|               2|\n",
      "|         Costa Rica|               2|\n",
      "|            Belarus|               2|\n",
      "|           Slovakia|               2|\n",
      "|          Argentina|               1|\n",
      "|Trinidad and Tobago|               1|\n",
      "|            Croatia|               1|\n",
      "|           Slovenia|               1|\n",
      "|          Lithuania|               1|\n",
      "|             Serbia|               1|\n",
      "|            Denmark|               1|\n",
      "+-------------------+----------------+\n",
      "\n"
     ]
    }
   ],
   "source": [
    "hf = df.filter(df.sports == \"Swimming\")  # filtering  swimming sport rows from data\n",
    "gf = hf.groupby(\"country\").sum(\"total_medal\").orderBy(f.desc(\"sum(total_medal)\")) # and then group by each country\n",
    "n = gf.count()\n",
    "gf.show(n) # result show"
   ]
  },
  {
   "cell_type": "markdown",
   "metadata": {
    "id": "3TXnx6CYIAQT"
   },
   "source": [
    "Above list of total number of medals won by each country in swimming."
   ]
  },
  {
   "cell_type": "markdown",
   "metadata": {
    "id": "aXRSJosO7YQW"
   },
   "source": [
    "## Q6. Find the total number of medals won by each country in Skeleton."
   ]
  },
  {
   "cell_type": "code",
   "execution_count": 20,
   "metadata": {
    "colab": {
     "base_uri": "https://localhost:8080/"
    },
    "id": "fnZzcVfPUUdO",
    "outputId": "5e6d5d80-4528-40a1-dedf-932e4145dd31"
   },
   "outputs": [
    {
     "name": "stdout",
     "output_type": "stream",
     "text": [
      "+-------------+----------------+\n",
      "|      country|sum(total_medal)|\n",
      "+-------------+----------------+\n",
      "|       Canada|               4|\n",
      "|Great Britain|               3|\n",
      "|  Switzerland|               3|\n",
      "|United States|               3|\n",
      "|      Germany|               2|\n",
      "|       Russia|               1|\n",
      "|      Austria|               1|\n",
      "|       Latvia|               1|\n",
      "+-------------+----------------+\n",
      "\n"
     ]
    }
   ],
   "source": [
    "hf = df.filter(df.sports == \"Skeleton\") # # filtering  skeleton sport rows from data\n",
    "gf = hf.groupby(\"country\").sum(\"total_medal\").orderBy(f.desc(\"sum(total_medal)\")) # and then group by each country\n",
    "gf.show()  # result show"
   ]
  },
  {
   "cell_type": "markdown",
   "metadata": {
    "id": "qe-tLoGaIeoC"
   },
   "source": [
    "above list of total number of medals won by each country in Skeleton"
   ]
  },
  {
   "cell_type": "markdown",
   "metadata": {
    "id": "tSqwkKCW7w-0"
   },
   "source": [
    "## Q7. Find the number of medals that the US won yearly."
   ]
  },
  {
   "cell_type": "code",
   "execution_count": 21,
   "metadata": {
    "colab": {
     "base_uri": "https://localhost:8080/"
    },
    "id": "CapB5_rOWbhc",
    "outputId": "2f34c1e8-417e-4e2c-b38a-650c84036e17"
   },
   "outputs": [
    {
     "name": "stdout",
     "output_type": "stream",
     "text": [
      "+----+----------------+\n",
      "|year|sum(total_medal)|\n",
      "+----+----------------+\n",
      "|2008|             317|\n",
      "|2004|             265|\n",
      "|2012|             254|\n",
      "|2000|             243|\n",
      "|2010|              97|\n",
      "|2002|              84|\n",
      "|2006|              52|\n",
      "+----+----------------+\n",
      "\n"
     ]
    }
   ],
   "source": [
    "qf = df.filter(df.country == \"United States\")  # filter data by using country united states\n",
    "vf = qf.groupby(\"year\").sum(\"total_medal\").orderBy(f.desc(\"sum(total_medal)\"))  # then use group by year and use sum for add total medals\n",
    "vf.show() # result show"
   ]
  },
  {
   "cell_type": "markdown",
   "metadata": {
    "id": "MNCvaTvxJClV"
   },
   "source": [
    "Above table is the number of medals that the US won yearly.\n"
   ]
  },
  {
   "cell_type": "markdown",
   "metadata": {
    "id": "o_tGFM_v7_ju"
   },
   "source": [
    "## Q8. Find the total number of medals won by each country."
   ]
  },
  {
   "cell_type": "code",
   "execution_count": 22,
   "metadata": {
    "colab": {
     "base_uri": "https://localhost:8080/"
    },
    "id": "dZPqdHwDLVW7",
    "outputId": "0add1764-162e-469b-e0e4-bc627431d347"
   },
   "outputs": [
    {
     "name": "stdout",
     "output_type": "stream",
     "text": [
      "+--------------------+----------------+\n",
      "|             country|sum(total_medal)|\n",
      "+--------------------+----------------+\n",
      "|       United States|            1312|\n",
      "|              Russia|             768|\n",
      "|             Germany|             629|\n",
      "|           Australia|             609|\n",
      "|               China|             530|\n",
      "|              Canada|             370|\n",
      "|               Italy|             331|\n",
      "|       Great Britain|             322|\n",
      "|              France|             318|\n",
      "|         Netherlands|             318|\n",
      "|         South Korea|             308|\n",
      "|               Japan|             282|\n",
      "|              Brazil|             219|\n",
      "|               Spain|             205|\n",
      "|              Norway|             192|\n",
      "|                Cuba|             188|\n",
      "|              Sweden|             181|\n",
      "|             Hungary|             145|\n",
      "|             Ukraine|             143|\n",
      "|           Argentina|             140|\n",
      "|             Romania|             123|\n",
      "|             Finland|             118|\n",
      "|             Belarus|              97|\n",
      "|         Switzerland|              93|\n",
      "|             Austria|              91|\n",
      "|             Denmark|              89|\n",
      "|             Croatia|              81|\n",
      "|      Czech Republic|              81|\n",
      "|              Poland|              80|\n",
      "|             Jamaica|              80|\n",
      "|              Greece|              59|\n",
      "|         New Zealand|              52|\n",
      "|          Kazakhstan|              42|\n",
      "|            Bulgaria|              41|\n",
      "|             Nigeria|              39|\n",
      "|               Kenya|              39|\n",
      "|              Mexico|              38|\n",
      "|Serbia and Monten...|              38|\n",
      "|            Slovakia|              35|\n",
      "|              Serbia|              31|\n",
      "|           Lithuania|              30|\n",
      "|            Ethiopia|              29|\n",
      "|              Turkey|              28|\n",
      "|          Azerbaijan|              25|\n",
      "|        South Africa|              25|\n",
      "|            Slovenia|              25|\n",
      "|             Bahamas|              24|\n",
      "|                Iran|              24|\n",
      "|             Georgia|              23|\n",
      "|               Chile|              22|\n",
      "|           Indonesia|              22|\n",
      "|         North Korea|              21|\n",
      "|      Chinese Taipei|              20|\n",
      "|            Cameroon|              20|\n",
      "| Trinidad and Tobago|              19|\n",
      "|          Uzbekistan|              19|\n",
      "|             Estonia|              18|\n",
      "|             Belgium|              18|\n",
      "|            Thailand|              18|\n",
      "|            Paraguay|              17|\n",
      "|              Latvia|              17|\n",
      "|             Iceland|              15|\n",
      "|          Montenegro|              14|\n",
      "|            Colombia|              13|\n",
      "|               India|              11|\n",
      "|             Morocco|              11|\n",
      "|            Mongolia|              10|\n",
      "|             Armenia|              10|\n",
      "|             Ireland|               9|\n",
      "|            Portugal|               9|\n",
      "|               Egypt|               8|\n",
      "|             Algeria|               8|\n",
      "|           Singapore|               7|\n",
      "|            Zimbabwe|               7|\n",
      "|        Saudi Arabia|               6|\n",
      "|  Dominican Republic|               5|\n",
      "|             Moldova|               5|\n",
      "|              Israel|               4|\n",
      "|             Tunisia|               4|\n",
      "|           Venezuela|               4|\n",
      "|               Qatar|               3|\n",
      "|          Tajikistan|               3|\n",
      "|           Hong Kong|               3|\n",
      "|          Kyrgyzstan|               3|\n",
      "|            Malaysia|               3|\n",
      "|          Costa Rica|               2|\n",
      "|             Vietnam|               2|\n",
      "|         Puerto Rico|               2|\n",
      "|         Afghanistan|               2|\n",
      "|              Kuwait|               2|\n",
      "|             Eritrea|               1|\n",
      "|               Sudan|               1|\n",
      "|               Gabon|               1|\n",
      "|           Sri Lanka|               1|\n",
      "|            Barbados|               1|\n",
      "|                Togo|               1|\n",
      "|              Panama|               1|\n",
      "|              Uganda|               1|\n",
      "|             Ecuador|               1|\n",
      "|              Cyprus|               1|\n",
      "|             Uruguay|               1|\n",
      "|United Arab Emirates|               1|\n",
      "|            Botswana|               1|\n",
      "|           Guatemala|               1|\n",
      "|             Grenada|               1|\n",
      "|           Macedonia|               1|\n",
      "|             Bahrain|               1|\n",
      "|           Mauritius|               1|\n",
      "|               Syria|               1|\n",
      "|          Mozambique|               1|\n",
      "+--------------------+----------------+\n",
      "\n"
     ]
    }
   ],
   "source": [
    "import pyspark.sql.functions as f  # use function f of sql\n",
    "sf =df.groupby(\"country\").sum(\"total_medal\") # use groupby country then use sum for add medals\n",
    "Country = sf.orderBy(f.desc(\"sum(total_medal)\")) # use order by and desc for descending ordering\n",
    "Country.show(n = 110)  # result show"
   ]
  },
  {
   "cell_type": "markdown",
   "metadata": {
    "id": "uTBfmaT0Jve3"
   },
   "source": [
    "above table is the total number of medals won by each country."
   ]
  },
  {
   "cell_type": "markdown",
   "metadata": {
    "id": "Nbq98hAi8d-o"
   },
   "source": [
    "## Q9 Who was the oldest athlete in the olympics? "
   ]
  },
  {
   "cell_type": "code",
   "execution_count": 23,
   "metadata": {
    "colab": {
     "base_uri": "https://localhost:8080/"
    },
    "id": "nrzCE8kPXCIW",
    "outputId": "d1fa22f5-8bff-4c5d-d93b-c5f7a536da81"
   },
   "outputs": [
    {
     "name": "stdout",
     "output_type": "stream",
     "text": [
      "+--------+\n",
      "|max(age)|\n",
      "+--------+\n",
      "|    61.0|\n",
      "+--------+\n",
      "\n"
     ]
    }
   ],
   "source": [
    "df.agg({'age': 'max'}).show()  # use aggregate max function"
   ]
  },
  {
   "cell_type": "markdown",
   "metadata": {
    "id": "zt2Uf_AYKAL0"
   },
   "source": [
    "Whose age was greater  -- that was oldest athlete"
   ]
  },
  {
   "cell_type": "code",
   "execution_count": 24,
   "metadata": {
    "colab": {
     "base_uri": "https://localhost:8080/"
    },
    "id": "YgTuqH4YYHwi",
    "outputId": "97bec940-b209-488e-fe90-3b0f334ce165"
   },
   "outputs": [
    {
     "name": "stdout",
     "output_type": "stream",
     "text": [
      "+----------+----+-------+----+----------+----------+----------+------------+-----------+-----------+\n",
      "|      name| age|country|year|Date_Given|    sports|gold_medal|silver_medal|brone_medal|total_medal|\n",
      "+----------+----+-------+----+----------+----------+----------+------------+-----------+-----------+\n",
      "|Ian Millar|61.0| Canada|2008| 8/24/2008|Equestrian|         0|           1|          0|          1|\n",
      "+----------+----+-------+----+----------+----------+----------+------------+-----------+-----------+\n",
      "\n"
     ]
    }
   ],
   "source": [
    "Age = df.filter(df.age == 61)   # filtering the age \n",
    "Age.show()"
   ]
  },
  {
   "cell_type": "markdown",
   "metadata": {
    "id": "_BaB274XKQDG"
   },
   "source": [
    "Ian Millar was oldest athlete"
   ]
  },
  {
   "cell_type": "markdown",
   "metadata": {
    "id": "nmUWNlLq9ZGM"
   },
   "source": [
    "## Q10. Which country was he/she from?"
   ]
  },
  {
   "cell_type": "code",
   "execution_count": 25,
   "metadata": {
    "colab": {
     "base_uri": "https://localhost:8080/"
    },
    "id": "3aOW_Wp3Y49Y",
    "outputId": "4f49c2a8-d174-4611-bd0d-cb7505fab1f3"
   },
   "outputs": [
    {
     "name": "stdout",
     "output_type": "stream",
     "text": [
      "+----------+----+-------+----+----------+----------+----------+------------+-----------+-----------+\n",
      "|      name| age|country|year|Date_Given|    sports|gold_medal|silver_medal|brone_medal|total_medal|\n",
      "+----------+----+-------+----+----------+----------+----------+------------+-----------+-----------+\n",
      "|Ian Millar|61.0| Canada|2008| 8/24/2008|Equestrian|         0|           1|          0|          1|\n",
      "+----------+----+-------+----+----------+----------+----------+------------+-----------+-----------+\n",
      "\n"
     ]
    }
   ],
   "source": [
    "Age = df.filter(df.age == 61)  # filter age variable\n",
    "Age.show() # show age"
   ]
  },
  {
   "cell_type": "markdown",
   "metadata": {
    "id": "BK3Q6ESMKZ8z"
   },
   "source": [
    "He was from Canada"
   ]
  },
  {
   "cell_type": "markdown",
   "metadata": {
    "id": "szPXqXJ5-ZG7"
   },
   "source": [
    "## Q11 plot the total number of medals in  each Olympic Sport/game"
   ]
  },
  {
   "cell_type": "code",
   "execution_count": 26,
   "metadata": {
    "id": "gPRiIbk7-oxd"
   },
   "outputs": [],
   "source": [
    "import pandas as  pd   # use for data analysis\n",
    "import matplotlib.pyplot as plt   # use for data visualisation\n",
    "import seaborn as sns  # use for data visualisation"
   ]
  },
  {
   "cell_type": "code",
   "execution_count": 28,
   "metadata": {
    "colab": {
     "base_uri": "https://localhost:8080/",
     "height": 206
    },
    "id": "9SkS06Q4DkwJ",
    "outputId": "a04659cd-7779-400c-a2d3-5dc59a766e23"
   },
   "outputs": [
    {
     "data": {
      "text/html": [
       "\n",
       "  <div id=\"df-683c110b-569c-4ac7-a5b1-e45086b536d5\">\n",
       "    <div class=\"colab-df-container\">\n",
       "      <div>\n",
       "<style scoped>\n",
       "    .dataframe tbody tr th:only-of-type {\n",
       "        vertical-align: middle;\n",
       "    }\n",
       "\n",
       "    .dataframe tbody tr th {\n",
       "        vertical-align: top;\n",
       "    }\n",
       "\n",
       "    .dataframe thead th {\n",
       "        text-align: right;\n",
       "    }\n",
       "</style>\n",
       "<table border=\"1\" class=\"dataframe\">\n",
       "  <thead>\n",
       "    <tr style=\"text-align: right;\">\n",
       "      <th></th>\n",
       "      <th>name</th>\n",
       "      <th>age</th>\n",
       "      <th>country</th>\n",
       "      <th>year</th>\n",
       "      <th>Date_Given</th>\n",
       "      <th>sports</th>\n",
       "      <th>gold_medal</th>\n",
       "      <th>silver_medal</th>\n",
       "      <th>brone_medal</th>\n",
       "      <th>total_medal</th>\n",
       "    </tr>\n",
       "  </thead>\n",
       "  <tbody>\n",
       "    <tr>\n",
       "      <th>0</th>\n",
       "      <td>Michael Phelps</td>\n",
       "      <td>23.0</td>\n",
       "      <td>United States</td>\n",
       "      <td>2008</td>\n",
       "      <td>8/24/2008</td>\n",
       "      <td>Swimming</td>\n",
       "      <td>8</td>\n",
       "      <td>0</td>\n",
       "      <td>0</td>\n",
       "      <td>8</td>\n",
       "    </tr>\n",
       "    <tr>\n",
       "      <th>1</th>\n",
       "      <td>Michael Phelps</td>\n",
       "      <td>19.0</td>\n",
       "      <td>United States</td>\n",
       "      <td>2004</td>\n",
       "      <td>8/29/2004</td>\n",
       "      <td>Swimming</td>\n",
       "      <td>6</td>\n",
       "      <td>0</td>\n",
       "      <td>2</td>\n",
       "      <td>8</td>\n",
       "    </tr>\n",
       "    <tr>\n",
       "      <th>2</th>\n",
       "      <td>Michael Phelps</td>\n",
       "      <td>27.0</td>\n",
       "      <td>United States</td>\n",
       "      <td>2012</td>\n",
       "      <td>08-12-2012</td>\n",
       "      <td>Swimming</td>\n",
       "      <td>4</td>\n",
       "      <td>2</td>\n",
       "      <td>0</td>\n",
       "      <td>6</td>\n",
       "    </tr>\n",
       "    <tr>\n",
       "      <th>3</th>\n",
       "      <td>Natalie Coughlin</td>\n",
       "      <td>25.0</td>\n",
       "      <td>United States</td>\n",
       "      <td>2008</td>\n",
       "      <td>8/24/2008</td>\n",
       "      <td>Swimming</td>\n",
       "      <td>1</td>\n",
       "      <td>2</td>\n",
       "      <td>3</td>\n",
       "      <td>6</td>\n",
       "    </tr>\n",
       "    <tr>\n",
       "      <th>4</th>\n",
       "      <td>Aleksey Nemov</td>\n",
       "      <td>24.0</td>\n",
       "      <td>Russia</td>\n",
       "      <td>2000</td>\n",
       "      <td>10-01-2000</td>\n",
       "      <td>Gymnastics</td>\n",
       "      <td>2</td>\n",
       "      <td>1</td>\n",
       "      <td>3</td>\n",
       "      <td>6</td>\n",
       "    </tr>\n",
       "  </tbody>\n",
       "</table>\n",
       "</div>\n",
       "      <button class=\"colab-df-convert\" onclick=\"convertToInteractive('df-683c110b-569c-4ac7-a5b1-e45086b536d5')\"\n",
       "              title=\"Convert this dataframe to an interactive table.\"\n",
       "              style=\"display:none;\">\n",
       "        \n",
       "  <svg xmlns=\"http://www.w3.org/2000/svg\" height=\"24px\"viewBox=\"0 0 24 24\"\n",
       "       width=\"24px\">\n",
       "    <path d=\"M0 0h24v24H0V0z\" fill=\"none\"/>\n",
       "    <path d=\"M18.56 5.44l.94 2.06.94-2.06 2.06-.94-2.06-.94-.94-2.06-.94 2.06-2.06.94zm-11 1L8.5 8.5l.94-2.06 2.06-.94-2.06-.94L8.5 2.5l-.94 2.06-2.06.94zm10 10l.94 2.06.94-2.06 2.06-.94-2.06-.94-.94-2.06-.94 2.06-2.06.94z\"/><path d=\"M17.41 7.96l-1.37-1.37c-.4-.4-.92-.59-1.43-.59-.52 0-1.04.2-1.43.59L10.3 9.45l-7.72 7.72c-.78.78-.78 2.05 0 2.83L4 21.41c.39.39.9.59 1.41.59.51 0 1.02-.2 1.41-.59l7.78-7.78 2.81-2.81c.8-.78.8-2.07 0-2.86zM5.41 20L4 18.59l7.72-7.72 1.47 1.35L5.41 20z\"/>\n",
       "  </svg>\n",
       "      </button>\n",
       "      \n",
       "  <style>\n",
       "    .colab-df-container {\n",
       "      display:flex;\n",
       "      flex-wrap:wrap;\n",
       "      gap: 12px;\n",
       "    }\n",
       "\n",
       "    .colab-df-convert {\n",
       "      background-color: #E8F0FE;\n",
       "      border: none;\n",
       "      border-radius: 50%;\n",
       "      cursor: pointer;\n",
       "      display: none;\n",
       "      fill: #1967D2;\n",
       "      height: 32px;\n",
       "      padding: 0 0 0 0;\n",
       "      width: 32px;\n",
       "    }\n",
       "\n",
       "    .colab-df-convert:hover {\n",
       "      background-color: #E2EBFA;\n",
       "      box-shadow: 0px 1px 2px rgba(60, 64, 67, 0.3), 0px 1px 3px 1px rgba(60, 64, 67, 0.15);\n",
       "      fill: #174EA6;\n",
       "    }\n",
       "\n",
       "    [theme=dark] .colab-df-convert {\n",
       "      background-color: #3B4455;\n",
       "      fill: #D2E3FC;\n",
       "    }\n",
       "\n",
       "    [theme=dark] .colab-df-convert:hover {\n",
       "      background-color: #434B5C;\n",
       "      box-shadow: 0px 1px 3px 1px rgba(0, 0, 0, 0.15);\n",
       "      filter: drop-shadow(0px 1px 2px rgba(0, 0, 0, 0.3));\n",
       "      fill: #FFFFFF;\n",
       "    }\n",
       "  </style>\n",
       "\n",
       "      <script>\n",
       "        const buttonEl =\n",
       "          document.querySelector('#df-683c110b-569c-4ac7-a5b1-e45086b536d5 button.colab-df-convert');\n",
       "        buttonEl.style.display =\n",
       "          google.colab.kernel.accessAllowed ? 'block' : 'none';\n",
       "\n",
       "        async function convertToInteractive(key) {\n",
       "          const element = document.querySelector('#df-683c110b-569c-4ac7-a5b1-e45086b536d5');\n",
       "          const dataTable =\n",
       "            await google.colab.kernel.invokeFunction('convertToInteractive',\n",
       "                                                     [key], {});\n",
       "          if (!dataTable) return;\n",
       "\n",
       "          const docLinkHtml = 'Like what you see? Visit the ' +\n",
       "            '<a target=\"_blank\" href=https://colab.research.google.com/notebooks/data_table.ipynb>data table notebook</a>'\n",
       "            + ' to learn more about interactive tables.';\n",
       "          element.innerHTML = '';\n",
       "          dataTable['output_type'] = 'display_data';\n",
       "          await google.colab.output.renderOutput(dataTable, element);\n",
       "          const docLink = document.createElement('div');\n",
       "          docLink.innerHTML = docLinkHtml;\n",
       "          element.appendChild(docLink);\n",
       "        }\n",
       "      </script>\n",
       "    </div>\n",
       "  </div>\n",
       "  "
      ],
      "text/plain": [
       "               name   age        country  year  Date_Given      sports  \\\n",
       "0    Michael Phelps  23.0  United States  2008   8/24/2008    Swimming   \n",
       "1    Michael Phelps  19.0  United States  2004   8/29/2004    Swimming   \n",
       "2    Michael Phelps  27.0  United States  2012  08-12-2012    Swimming   \n",
       "3  Natalie Coughlin  25.0  United States  2008   8/24/2008    Swimming   \n",
       "4     Aleksey Nemov  24.0         Russia  2000  10-01-2000  Gymnastics   \n",
       "\n",
       "   gold_medal  silver_medal  brone_medal  total_medal  \n",
       "0           8             0            0            8  \n",
       "1           6             0            2            8  \n",
       "2           4             2            0            6  \n",
       "3           1             2            3            6  \n",
       "4           2             1            3            6  "
      ]
     },
     "execution_count": 28,
     "metadata": {},
     "output_type": "execute_result"
    }
   ],
   "source": [
    "olympix = df.toPandas()   # converting pyspark dataframe to pandas dataframe\n",
    "olympix.head()  # reading 1 st five rows"
   ]
  },
  {
   "cell_type": "code",
   "execution_count": 30,
   "metadata": {
    "colab": {
     "base_uri": "https://localhost:8080/"
    },
    "id": "WoAQpHgE_L-G",
    "outputId": "413fa18a-3382-4c88-ef0d-b8024af5f600"
   },
   "outputs": [
    {
     "data": {
      "text/plain": [
       "sports\n",
       "Swimming                     765\n",
       "Athletics                    753\n",
       "Rowing                       576\n",
       "Football                     407\n",
       "Hockey                       387\n",
       "Ice Hockey                   384\n",
       "Handball                     351\n",
       "Canoeing                     333\n",
       "Waterpolo                    306\n",
       "Cycling                      306\n",
       "Basketball                   287\n",
       "Gymnastics                   282\n",
       "Volleyball                   279\n",
       "Fencing                      256\n",
       "Wrestling                    245\n",
       "Judo                         224\n",
       "Baseball                     216\n",
       "Sailing                      210\n",
       "Shooting                     192\n",
       "Boxing                       188\n",
       "Equestrian                   182\n",
       "Weightlifting                180\n",
       "Cross Country Skiing         174\n",
       "Diving                       144\n",
       "Speed Skating                140\n",
       "Biathlon                     138\n",
       "Short-Track Speed Skating    138\n",
       "Softball                     134\n",
       "Synchronized Swimming        129\n",
       "Taekwondo                    112\n",
       "Badminton                     96\n",
       "Archery                       96\n",
       "Alpine Skiing                 90\n",
       "Rhythmic Gymnastics           84\n",
       "Table Tennis                  84\n",
       "Curling                       82\n",
       "Tennis                        78\n",
       "Bobsleigh                     72\n",
       "Nordic Combined               54\n",
       "Ski Jumping                   54\n",
       "Figure Skating                54\n",
       "Snowboarding                  48\n",
       "Beach Volleyball              48\n",
       "Freestyle Skiing              42\n",
       "Luge                          36\n",
       "Trampoline                    24\n",
       "Triathlon                     24\n",
       "Modern Pentathlon             24\n",
       "Skeleton                      18\n",
       "Name: total_medal, dtype: int32"
      ]
     },
     "execution_count": 30,
     "metadata": {},
     "output_type": "execute_result"
    }
   ],
   "source": [
    "total_sport = olympix.groupby(['sports'])[\"total_medal\"].sum().sort_values(ascending=False)\n",
    "total_sport   # the total number of medals in  each Olympic Sport/game in descending order"
   ]
  },
  {
   "cell_type": "code",
   "execution_count": 31,
   "metadata": {
    "colab": {
     "base_uri": "https://localhost:8080/",
     "height": 650
    },
    "id": "SbNxJrl2Djlu",
    "outputId": "dcc8a633-d41e-41f6-d145-a74e0fa19b6c"
   },
   "outputs": [
    {
     "data": {
      "text/plain": [
       "<matplotlib.axes._subplots.AxesSubplot at 0x7efefe657f50>"
      ]
     },
     "execution_count": 31,
     "metadata": {},
     "output_type": "execute_result"
    },
    {
     "data": {
      "image/png": "[encoded data removed]",
      "text/plain": [
       "<Figure size 1080x576 with 1 Axes>"
      ]
     },
     "metadata": {
      "needs_background": "light"
     },
     "output_type": "display_data"
    }
   ],
   "source": [
    "total_sport.plot(kind='bar', title='sports vs total_medal', ylabel='total_medal',\n",
    "         xlabel='sports', figsize=(15,8)) # bar plot sports vs total_medal"
   ]
  },
  {
   "cell_type": "markdown",
   "metadata": {
    "id": "KmxGSf8ULRmk"
   },
   "source": [
    "From above plot large total  medals in sports like swimming,athletics, rowing, football and hockey"
   ]
  },
  {
   "cell_type": "markdown",
   "metadata": {
    "id": "KwCMScFcD66j"
   },
   "source": [
    "### Top 10 sports with total medals"
   ]
  },
  {
   "cell_type": "code",
   "execution_count": 32,
   "metadata": {
    "colab": {
     "base_uri": "https://localhost:8080/"
    },
    "id": "2V4dZn0nD6J0",
    "outputId": "eb7a0bd7-d46f-4845-8dab-6f6257357943"
   },
   "outputs": [
    {
     "data": {
      "text/plain": [
       "sports\n",
       "Swimming      765\n",
       "Athletics     753\n",
       "Rowing        576\n",
       "Football      407\n",
       "Hockey        387\n",
       "Ice Hockey    384\n",
       "Handball      351\n",
       "Canoeing      333\n",
       "Waterpolo     306\n",
       "Cycling       306\n",
       "Name: total_medal, dtype: int32"
      ]
     },
     "execution_count": 32,
     "metadata": {},
     "output_type": "execute_result"
    }
   ],
   "source": [
    "total_sport = olympix.groupby(['sports'])[\"total_medal\"].sum().sort_values(ascending=False).head(10)\n",
    "total_sport   # the total number of medals in  each Olympic Sport/game in descending order"
   ]
  },
  {
   "cell_type": "code",
   "execution_count": 33,
   "metadata": {
    "colab": {
     "base_uri": "https://localhost:8080/",
     "height": 574
    },
    "id": "PzRxy_rwDcNB",
    "outputId": "051ca449-59a5-4d89-fbc8-40195ea58759"
   },
   "outputs": [
    {
     "data": {
      "text/plain": [
       "<matplotlib.axes._subplots.AxesSubplot at 0x7efefe54d190>"
      ]
     },
     "execution_count": 33,
     "metadata": {},
     "output_type": "execute_result"
    },
    {
     "data": {
      "image/png": "[encoded data removed]",
      "text/plain": [
       "<Figure size 1080x576 with 1 Axes>"
      ]
     },
     "metadata": {
      "needs_background": "light"
     },
     "output_type": "display_data"
    }
   ],
   "source": [
    "total_sport.plot(kind='bar', title='sports vs total_medal', ylabel='total_medal',xlabel='sports', figsize=(15,8)) # bar plot sports vs total_medal"
   ]
  },
  {
   "cell_type": "markdown",
   "metadata": {
    "id": "cNN1kwcbFbTD"
   },
   "source": [
    "\n",
    "From above plot large total medals in sports like swimming,athletics, rowing, football and hockey"
   ]
  },
  {
   "cell_type": "code",
   "execution_count": null,
   "metadata": {
    "id": "rDT2v1QYDgsQ"
   },
   "outputs": [],
   "source": []
  }
 ],
 "metadata": {
  "colab": {
   "collapsed_sections": [],
   "name": "Capstone_Project_on _Pyspark.ipynb",
   "provenance": []
  },
  "kernelspec": {
   "display_name": "Python 3 (ipykernel)",
   "language": "python",
   "name": "python3"
  },
  "language_info": {
   "codemirror_mode": {
    "name": "ipython",
    "version": 3
   },
   "file_extension": ".py",
   "mimetype": "text/x-python",
   "name": "python",
   "nbconvert_exporter": "python",
   "pygments_lexer": "ipython3",
   "version": "3.9.7"
  }
 },
 "nbformat": 4,
 "nbformat_minor": 1
}
